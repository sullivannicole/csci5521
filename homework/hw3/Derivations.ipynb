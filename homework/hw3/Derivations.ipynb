{
 "cells": [
  {
   "cell_type": "markdown",
   "id": "f67f863e",
   "metadata": {},
   "source": [
    "## Question 1\n",
    "**v** <br>\n",
    "y is a sigmoid.\n",
    "$\\therefore \\frac{dE}{dy} \\frac{dy}{d\\alpha} \\frac{d\\alpha}{dv}$: <br>\n",
    "$\\Delta v_h = -\\sum_t(\\frac{r^t}{y^t})\\frac{1}{(1 + e^{-\\alpha})}z_h$ <br>\n",
    "$\\Delta v_0 = -\\sum_t(\\frac{r^t}{y^t})\\frac{1}{(1 + e^{-\\alpha})}$\n",
    "<br>\n",
    "<br>\n",
    "**w** <br>\n",
    "z = reLU() $\\frac{dE}{dy} \\frac{dy}{dz} \\frac{dz}{dw}$: <br>\n",
    "if $w^Tx^t + w_0 >0$: <br>\n",
    "\n",
    "$\\Delta w_h = -\\sum_t$ <br>\n",
    "$\\Delta w_0 = -\\sum_t$ <br>\n",
    "<br>\n",
    "else: <br>\n",
    "0\n"
   ]
  },
  {
   "cell_type": "markdown",
   "id": "b23ba73e",
   "metadata": {},
   "source": [
    "## Question 3\n",
    "#### Gradients\n",
    "**v**<br>\n",
    "y is a softmax.\n",
    "$\\therefore \\frac{dy}{d\\alpha} \\frac{d\\alpha}{dv}$: <br>\n",
    "$\\Delta v_h = -\\sum_t(y^t-r^t)z_h$ <br>\n",
    "$\\Delta v_0 = -\\sum_t(y^t-r^t)$\n",
    "<br>\n",
    "<br>\n",
    "**w** <br>\n",
    "is trickier. $\\frac{dE}{dy} \\frac{dy}{d\\alpha}\\frac{d\\alpha}{dz} \\frac{dz}{d\\beta}\\frac{d\\beta}{dw}$: <br>\n",
    "$\\Delta w_h = -\\sum_t(y^t-r^t)v_h(1-z^2)(x_h)$\n",
    "\n",
    "$\\Delta w_0 = -\\sum_t(y^t-r^t)v_h(1-z^2)$"
   ]
  }
 ],
 "metadata": {
  "kernelspec": {
   "display_name": "Python 3 (ipykernel)",
   "language": "python",
   "name": "python3"
  },
  "language_info": {
   "codemirror_mode": {
    "name": "ipython",
    "version": 3
   },
   "file_extension": ".py",
   "mimetype": "text/x-python",
   "name": "python",
   "nbconvert_exporter": "python",
   "pygments_lexer": "ipython3",
   "version": "3.9.10"
  }
 },
 "nbformat": 4,
 "nbformat_minor": 5
}
